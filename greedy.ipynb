{
 "cells": [
  {
   "cell_type": "code",
   "execution_count": 1,
   "id": "0aa2fbc3-138d-46de-af60-be1c89c060b0",
   "metadata": {},
   "outputs": [],
   "source": [
    "using StatsBase\n",
    "using Graphs, MetaGraphs\n",
    "using Makie\n",
    "using BenchmarkTools"
   ]
  },
  {
   "cell_type": "code",
   "execution_count": 2,
   "id": "5633270a-1475-459f-a048-23fdca5d3c00",
   "metadata": {},
   "outputs": [
    {
     "data": {
      "text/plain": [
       "entropy (generic function with 1 method)"
      ]
     },
     "execution_count": 2,
     "metadata": {},
     "output_type": "execute_result"
    }
   ],
   "source": [
    "# utils\n",
    "Base.getindex(g::MetaDiGraph, i::Integer) = g.vprops[i]\n",
    "Base.getindex(g::MetaDiGraph, i::Integer, j::Integer) = g.eprops[Edge(i,j)]\n",
    "\n",
    "function color_print(io::IO, chars, colors)\n",
    "    for (c, col) in zip(chars, colors)\n",
    "        printstyled(io, string(c); color=col)\n",
    "    end\n",
    "end\n",
    "\n",
    "function entropy(pvec::Vector{Float64})\n",
    "    return mapreduce(p -> (p > 0) ? -p * log(p) : 0.0, +, pvec)\n",
    "end"
   ]
  },
  {
   "cell_type": "code",
   "execution_count": 3,
   "id": "19583d4d-efa6-4166-9800-ff3974355b3c",
   "metadata": {
    "tags": []
   },
   "outputs": [
    {
     "data": {
      "text/plain": [
       "entropy (generic function with 2 methods)"
      ]
     },
     "execution_count": 3,
     "metadata": {},
     "output_type": "execute_result"
    }
   ],
   "source": [
    "const ITYPE = UInt16 # depends on the number of words\n",
    "const NLETTERS = 5\n",
    "\n",
    "@enum TileColor begin # as per WORDLE\n",
    "    GREEN = 0\n",
    "    YELLOW = 1\n",
    "    GREY = 2\n",
    "end\n",
    "const NCOLORS = length(instances(TileColor))\n",
    "\n",
    "get_color(tc::TileColor) = (tc == GREEN) ? :green : (tc == YELLOW) ? :yellow : :grey\n",
    "\n",
    "# now, the overall feedback\n",
    "const Feedback = NTuple{NLETTERS, TileColor} # doesn't include the guess\n",
    "\n",
    "# can calculate on-the-fly, but storing might be faster\n",
    "const feedbacks_all = vec(collect(Iterators.product(fill(instances(TileColor), NLETTERS)...)))\n",
    "const feedbacks_dict = Dict(fb => i for (i,fb) in enumerate(feedbacks_all))\n",
    "\n",
    "Base.instances(::Type{Feedback}) = feedbacks_all\n",
    "\n",
    "const NFEEDBACKS = length(instances(Feedback))\n",
    "const CORRECT_GUESS = feedbacks_dict[Tuple(fill(GREEN, NLETTERS))]\n",
    "\n",
    "Base.Int(fb::Feedback) = feedbacks_dict[fb]\n",
    "Feedback(i::Integer) = feedbacks_all[i]\n",
    "\n",
    "# allows index with feedbacks directly\n",
    "Base.to_index(fb::Feedback) = Int(fb)\n",
    "\n",
    "function Base.show(io::IO, fb::Feedback)\n",
    "    color_print(io, fill('█', NLETTERS), map(f -> get_color(f), fb))\n",
    "end\n",
    "\n",
    "function entropy(fbv::Vector{Feedback})\n",
    "    ps = zeros(NCOLORS ^ NLETTERS)\n",
    "    for (k,v) in countmap(fbv)\n",
    "        ps[k] += v\n",
    "    end\n",
    "    ps ./= length(fbv)\n",
    "    \n",
    "    return entropy(ps)\n",
    "end"
   ]
  },
  {
   "cell_type": "code",
   "execution_count": 4,
   "id": "e7d3893b-7a4e-4a98-85ed-4a190ae7ee10",
   "metadata": {},
   "outputs": [
    {
     "data": {
      "text/plain": [
       "get_feedback_groups (generic function with 1 method)"
      ]
     },
     "execution_count": 4,
     "metadata": {},
     "output_type": "execute_result"
    }
   ],
   "source": [
    "function get_feedback(guess::String, answer::String)\n",
    "    guess, answer = collect(guess), collect(answer)\n",
    "    \n",
    "    rv = map(1:NLETTERS) do i\n",
    "        c = guess[i]\n",
    "        if c == answer[i]\n",
    "            GREEN\n",
    "        elseif (c in answer) && (sum(guess[1:(i-1)] .== c) < sum(answer .== c))\n",
    "            # second condition because of the way WORDLE deals with multiple appearences of a letter\n",
    "            YELLOW\n",
    "        else\n",
    "            GREY\n",
    "        end\n",
    "    end\n",
    "    \n",
    "    return Tuple(rv)\n",
    "end\n",
    "\n",
    "function get_feedback_groups(fbv::Vector{Feedback})\n",
    "    rv = [Vector{ITYPE}() for _ in 1:length(instances(Feedback))]\n",
    "    for (i,f) in enumerate(fbv)\n",
    "        push!(rv[f], i)\n",
    "    end\n",
    "    return rv\n",
    "end"
   ]
  },
  {
   "cell_type": "code",
   "execution_count": 5,
   "id": "9953cc00-6b07-4085-b7e6-82bb91c88210",
   "metadata": {
    "tags": []
   },
   "outputs": [
    {
     "data": {
      "text/plain": [
       "get_greedy_depths (generic function with 1 method)"
      ]
     },
     "execution_count": 5,
     "metadata": {},
     "output_type": "execute_result"
    }
   ],
   "source": [
    "function make_greedy_guess(feedbacks::AbstractMatrix{Feedback}, wl::AbstractVector{<:Integer})\n",
    "    # returns word index with the maximum entropy, given the word list\n",
    "    es = map(wi -> entropy(feedbacks[wi,wl]), 1:NWORDS)\n",
    "    rv = argmax(es)\n",
    "    \n",
    "    # if one of the words in the given list has the maximum entropy, we should return that.\n",
    "    # for example, if there's only one word in the list, a lot of words could have entropy = 0.\n",
    "    # choosing one of the words in the list means the terminal node occurs next.\n",
    "    # if we don't do this, we need to separately check for (length(*) == 1) cases in the `greedy depths` algorithm.\n",
    "    e = es[rv]\n",
    "    for wi in wl\n",
    "        if e ≈ es[wi]\n",
    "            rv = wi\n",
    "            break\n",
    "        end\n",
    "    end\n",
    "    \n",
    "    return ITYPE(rv)\n",
    "end\n",
    "\n",
    "function filter_groups(cgroups::Vector{Vector{ITYPE}}, wl::Vector{ITYPE})\n",
    "    intersect.(cgroups, Ref(wl))\n",
    "end\n",
    "\n",
    "function get_greedy_depths(feedbacks, feedback_groups)\n",
    "    gdepths = zeros(Int, NWORDS)\n",
    "\n",
    "    # each element: [(guess, depth, fb_groups), fb_state]\n",
    "    iguess = make_greedy_guess(feedbacks, 1:NWORDS) # initial guess\n",
    "    S = [[(iguess, 1, feedback_groups[iguess]), 1]]\n",
    "    while !isempty(S)\n",
    "        ((guess, depth, fb_groups), fb_state) = S[end]\n",
    "        if fb_state > NFEEDBACKS # feedbacks exhausted\n",
    "            pop!(S)\n",
    "        elseif (fb_state == CORRECT_GUESS) && !isempty(fb_groups[CORRECT_GUESS])\n",
    "            # correct guess feedback and need to make sure that the word isn't eliminated by earlier guesses\n",
    "            gdepths[guess] = depth\n",
    "            S[end][end] += 1\n",
    "        else\n",
    "            fb_state = findfirst(i -> (i ≥ fb_state) && !isempty(fb_groups[i]), 1:length(fb_groups))\n",
    "            if isnothing(fb_state) # no more word groups left!!\n",
    "                pop!(S)\n",
    "            else\n",
    "                S[end][end] = fb_state+1  # updating the state\n",
    "                grp = fb_groups[fb_state] # get the current word group\n",
    "                nextguess = make_greedy_guess(feedbacks, grp)\n",
    "                push!(S, [(nextguess, depth+1, filter_groups(feedback_groups[nextguess], grp)), 1])\n",
    "            end\n",
    "        end\n",
    "    end\n",
    "    \n",
    "    return gdepths\n",
    "end"
   ]
  },
  {
   "cell_type": "code",
   "execution_count": 6,
   "id": "da8699e9-ba03-4c1d-b473-89e0d6a97880",
   "metadata": {},
   "outputs": [
    {
     "name": "stdout",
     "output_type": "stream",
     "text": [
      " 28.872929 seconds (509.30 M allocations: 29.543 GiB, 10.70% gc time, 1.17% compilation time)\n",
      "  3.165882 seconds (3.60 M allocations: 970.770 MiB, 2.73% gc time, 3.71% compilation time)\n"
     ]
    }
   ],
   "source": [
    "words = uppercase.(readlines(\"./words.txt\"))\n",
    "NWORDS = length(words)\n",
    "\n",
    "feedbacks = @time [get_feedback(w1, w2) for w1 in words, w2 in words];\n",
    "feedback_groups = @time [get_feedback_groups(feedbacks[i,:]) for i in 1:NWORDS];"
   ]
  },
  {
   "cell_type": "code",
   "execution_count": 7,
   "id": "117306f5-6cb8-4658-a55c-fc3626a7f0d0",
   "metadata": {
    "tags": []
   },
   "outputs": [
    {
     "name": "stdout",
     "output_type": "stream",
     "text": [
      " 75.200212 seconds (242.31 M allocations: 103.975 GiB, 13.14% gc time, 1.01% compilation time)\n"
     ]
    }
   ],
   "source": [
    "gdepths = @time get_greedy_depths(feedbacks, feedback_groups);"
   ]
  },
  {
   "cell_type": "code",
   "execution_count": 8,
   "id": "061cbace-9276-4c50-9cc0-359e26a1bdc7",
   "metadata": {},
   "outputs": [
    {
     "data": {
      "text/plain": [
       "Dict{Int64, Int64} with 7 entries:\n",
       "  5 => 660\n",
       "  4 => 3159\n",
       "  6 => 65\n",
       "  7 => 1\n",
       "  2 => 64\n",
       "  3 => 1807\n",
       "  1 => 1"
      ]
     },
     "execution_count": 8,
     "metadata": {},
     "output_type": "execute_result"
    }
   ],
   "source": [
    "countmap(gdepths)"
   ]
  },
  {
   "cell_type": "code",
   "execution_count": null,
   "id": "02d97487-2dff-4220-b702-5db233b02c1b",
   "metadata": {},
   "outputs": [],
   "source": []
  },
  {
   "cell_type": "code",
   "execution_count": null,
   "id": "af5a7b0e-c790-4bc6-98cd-0f3301a4a6b9",
   "metadata": {},
   "outputs": [],
   "source": []
  },
  {
   "cell_type": "code",
   "execution_count": null,
   "id": "96fdc8c7-2f3b-4ad8-9b87-924379c81818",
   "metadata": {},
   "outputs": [],
   "source": []
  },
  {
   "cell_type": "code",
   "execution_count": null,
   "id": "72abf473-da62-43ba-9f9c-fc2bcdb147df",
   "metadata": {},
   "outputs": [],
   "source": []
  },
  {
   "cell_type": "code",
   "execution_count": null,
   "id": "cc9bc3ac-b039-4715-8f68-93d4565227b9",
   "metadata": {},
   "outputs": [],
   "source": []
  }
 ],
 "metadata": {
  "kernelspec": {
   "display_name": "Julia 1.6.3",
   "language": "julia",
   "name": "julia-1.6"
  },
  "language_info": {
   "file_extension": ".jl",
   "mimetype": "application/julia",
   "name": "julia",
   "version": "1.6.3"
  }
 },
 "nbformat": 4,
 "nbformat_minor": 5
}
